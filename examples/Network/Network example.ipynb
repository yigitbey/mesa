{
 "cells": [
  {
   "cell_type": "code",
   "execution_count": 4,
   "metadata": {
    "collapsed": true
   },
   "outputs": [],
   "source": [
    "import networkx as nx\n",
    "from random import choice\n",
    "\n",
    "from mesa import Agent, Model\n",
    "\n",
    "\n",
    "class VirusAgent(Agent):\n",
    "\n",
    "    def __init__(self, infected=False, resistant=False):\n",
    "\n",
    "        self.infected = infected\n",
    "        self.resistant = resistant"
   ]
  },
  {
   "cell_type": "code",
   "execution_count": 7,
   "metadata": {
    "collapsed": true
   },
   "outputs": [],
   "source": [
    "class VirusModel(Model):\n",
    "\n",
    "    # setting average node degree to '6' <-- TODO turn to slider\n",
    "    def __init__(self, N, G=None, avg_node_degree=6):\n",
    "        self.num_agents = N\n",
    "\n",
    "        if not G:\n",
    "            self.graph = self._create_network(avg_node_degree)\n",
    "        else:\n",
    "            self.graph = G\n",
    "\n",
    "    # TODO: Discuss - maybe this is abstracted out / generalized?\n",
    "    def _create_network(self, avg_node_degree):\n",
    "\n",
    "        G = nx.Graph()\n",
    "        for i in range(self.num_agents):\n",
    "            # create nodes\n",
    "            a = VirusAgent(i)\n",
    "            G.add_node(a)\n",
    "\n",
    "        num_links = (avg_node_degree * self.num_agents / 2)\n",
    "        while len(G.edges()) <= num_links:\n",
    "            firstn = choice(G.nodes())\n",
    "            possible_nodes = G.nodes()\n",
    "            possible_nodes.remove(firstn)\n",
    "            secondn = choice(possible_nodes)\n",
    "\n",
    "            edges = G.edges()\n",
    "\n",
    "            # TODO: Rewrite for directed graphs\n",
    "            # add a way for this to be handled.\n",
    "            if (firstn, secondn) not in edges and (secondn, firstn):\n",
    "                G.add_edge(firstn, secondn)"
   ]
  },
  {
   "cell_type": "code",
   "execution_count": 8,
   "metadata": {
    "collapsed": false
   },
   "outputs": [],
   "source": [
    "model = VirusModel(10)\n",
    "for i in range(10):\n",
    "    model.step()"
   ]
  },
  {
   "cell_type": "code",
   "execution_count": 12,
   "metadata": {
    "collapsed": false
   },
   "outputs": [
    {
     "data": {
      "text/plain": [
       "mappingproxy({'__init__': <function VirusModel.__init__ at 0x10dc8cae8>, '__doc__': None, '__module__': '__main__', '_create_network': <function VirusModel._create_network at 0x10dc8cb70>})"
      ]
     },
     "execution_count": 12,
     "metadata": {},
     "output_type": "execute_result"
    }
   ],
   "source": [
    "VirusModel.__dict__"
   ]
  },
  {
   "cell_type": "code",
   "execution_count": null,
   "metadata": {
    "collapsed": true
   },
   "outputs": [],
   "source": []
  }
 ],
 "metadata": {
  "kernelspec": {
   "display_name": "Python 3",
   "language": "python",
   "name": "python3"
  },
  "language_info": {
   "codemirror_mode": {
    "name": "ipython",
    "version": 3
   },
   "file_extension": ".py",
   "mimetype": "text/x-python",
   "name": "python",
   "nbconvert_exporter": "python",
   "pygments_lexer": "ipython3",
   "version": "3.5.1"
  }
 },
 "nbformat": 4,
 "nbformat_minor": 0
}
